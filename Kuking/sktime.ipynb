{
 "cells": [
  {
   "cell_type": "code",
   "execution_count": 7,
   "metadata": {},
   "outputs": [],
   "source": [
    "import pandas as pd\n",
    "import numpy as np\n",
    "import matplotlib.pyplot as plt\n",
    "import time\n",
    "\n",
    "from sklearn.metrics import mean_squared_error, r2_score\n",
    "from sklearn.model_selection import train_test_split\n"
   ]
  },
  {
   "cell_type": "code",
   "execution_count": 9,
   "metadata": {},
   "outputs": [],
   "source": [
    "data = pd.read_csv(\"../CSV/big_files/ais_train_processed.csv\", sep=\"|\")\n",
    "data.drop(columns=[\"portId\"], inplace=True)\n",
    "\n",
    "X = data.copy().drop(columns=[\"latitude\", \"longitude\"])\n",
    "y = data.copy()[[\"latitude\", \"longitude\"]]\n",
    "\n",
    "X_train, X_test, y_train, y_test = train_test_split(X, y, test_size=0.2, shuffle=False)\n",
    "\n",
    "X_train = pd.get_dummies(X_train, columns=[\"vesselId\"], drop_first=True)\n",
    "X_test = pd.get_dummies(X_test, columns=[\"vesselId\"], drop_first=True)\n",
    "\n",
    "#More data BS\n",
    "for col in X_train:\n",
    "    if col not in X_test:\n",
    "        X_test[col] = False\n",
    "\n",
    "X_train = X_train.reindex(sorted(X_train.columns), axis=1)\n",
    "X_test = X_test.reindex(sorted(X_test.columns), axis=1)\n",
    "\n",
    "def evaluate(model: str, y_pred):\n",
    "\n",
    "    n = len(y_test)\n",
    "    p = X_test.shape[1]\n",
    "\n",
    "    mse_latitude = mean_squared_error(y_test, y_pred)\n",
    "    mse_longitude = mean_squared_error(y_test, y_pred)\n",
    "    r2_latitude = r2_score(y_test, y_pred)\n",
    "    r2_latitude_adj = 1 - (1 - r2_latitude) * ((n - 1) / (n - p - 1))\n",
    "    r2_longitude = r2_score(y_test, y_pred)\n",
    "    r2_longitude_adj = 1 - (1 - r2_longitude) * ((n - 1) / (n - p - 1))\n",
    "\n",
    "\n",
    "    print(f\"---- {model} Metrics ----\")\n",
    "    print(f\"Mean Squared Error (Latitude): {mse_latitude:.4f}\")\n",
    "    print(f\"R-squared (Latitude): {r2_latitude:.4f}, Adjusted R-squared (Latitude): {r2_latitude_adj: .4f}\")\n",
    "    print(f\"Mean Squared Error (Longitude): {mse_longitude:.4f}\")\n",
    "    print(f\"R-squared (Longitude): {r2_longitude:.4f}, Adjusted R-squared (Latitude): {r2_longitude_adj: .4f}\")\n",
    "\n"
   ]
  },
  {
   "cell_type": "code",
   "execution_count": null,
   "metadata": {},
   "outputs": [],
   "source": [
    "# --- Time Series KNN ---\n",
    "from sktime.regression.distance_based import KNeighborsTimeSeriesRegressor\n",
    "\n",
    "start = time.time()\n",
    "KNNTS = KNeighborsTimeSeriesRegressor(n_neighbors=3, distance=\"eucl_dist\")\n",
    "KNNTS.fit(X_train, y_train)\n",
    "print(time.time()-start)\n",
    "\n",
    "knnts_pred = KNNTS.predict(X_test)\n",
    "\n",
    "evaluate(\"KNNTS\", knnts_pred)"
   ]
  }
 ],
 "metadata": {
  "kernelspec": {
   "display_name": "Python 3",
   "language": "python",
   "name": "python3"
  },
  "language_info": {
   "codemirror_mode": {
    "name": "ipython",
    "version": 3
   },
   "file_extension": ".py",
   "mimetype": "text/x-python",
   "name": "python",
   "nbconvert_exporter": "python",
   "pygments_lexer": "ipython3",
   "version": "3.11.9"
  }
 },
 "nbformat": 4,
 "nbformat_minor": 2
}
