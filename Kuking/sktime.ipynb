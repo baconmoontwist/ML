{
 "cells": [
  {
   "cell_type": "code",
   "execution_count": 1,
   "metadata": {},
   "outputs": [],
   "source": [
    "import pandas as pd\n",
    "import numpy as np\n",
    "import matplotlib.pyplot as plt\n",
    "import time\n",
    "import preprocess as pre\n",
    "\n",
    "from sklearn.metrics import mean_squared_error, r2_score\n",
    "from sklearn.model_selection import train_test_split\n",
    "import sktime\n"
   ]
  },
  {
   "cell_type": "code",
   "execution_count": 73,
   "metadata": {},
   "outputs": [],
   "source": [
    "import sktime.datatypes\n",
    "\n",
    "def sktimeProcess(data: pd.DataFrame):\n",
    "    \"\"\"\n",
    "    Given dataframe data, return dataframes X,y in the format sktime uses\n",
    "    \"\"\"\n",
    "\n",
    "    #Add a numeric vessel ID\n",
    "    ids = data[\"vesselId\"].unique()\n",
    "    id_dict = {ids[i]:i for i in range(len(ids))}\n",
    "    data[\"numericalVesselId\"] = data[\"vesselId\"].apply(lambda id: id_dict[id])\n",
    "\n",
    "    #Fix y after sorting\n",
    "    data.sort_values([\"numericalVesselId\", \"time\"], inplace=True)\n",
    "    y = data[[\"latitude\", \"longitude\"]].reset_index(drop=True)\n",
    "\n",
    "    #Multi index this bitch OnG\n",
    "    data.drop(columns=[\"latitude\", \"longitude\"], inplace=True)\n",
    "    data.set_index([\"numericalVesselId\", \"time\"], inplace=True)\n",
    "\n",
    "    #Check if this is correct format\n",
    "    sktime.datatypes.check_raise(data, mtype=\"pd-multiindex\")\n",
    "\n",
    "    return data, y\n",
    "\n"
   ]
  },
  {
   "cell_type": "code",
   "execution_count": 78,
   "metadata": {},
   "outputs": [
    {
     "data": {
      "text/html": [
       "<div>\n",
       "<style scoped>\n",
       "    .dataframe tbody tr th:only-of-type {\n",
       "        vertical-align: middle;\n",
       "    }\n",
       "\n",
       "    .dataframe tbody tr th {\n",
       "        vertical-align: top;\n",
       "    }\n",
       "\n",
       "    .dataframe thead th {\n",
       "        text-align: right;\n",
       "    }\n",
       "</style>\n",
       "<table border=\"1\" class=\"dataframe\">\n",
       "  <thead>\n",
       "    <tr style=\"text-align: right;\">\n",
       "      <th></th>\n",
       "      <th>latitude</th>\n",
       "      <th>longitude</th>\n",
       "    </tr>\n",
       "  </thead>\n",
       "  <tbody>\n",
       "    <tr>\n",
       "      <th>1214636</th>\n",
       "      <td>1.18471</td>\n",
       "      <td>103.61586</td>\n",
       "    </tr>\n",
       "    <tr>\n",
       "      <th>1214637</th>\n",
       "      <td>1.20012</td>\n",
       "      <td>103.53526</td>\n",
       "    </tr>\n",
       "    <tr>\n",
       "      <th>1214638</th>\n",
       "      <td>1.21734</td>\n",
       "      <td>103.47002</td>\n",
       "    </tr>\n",
       "    <tr>\n",
       "      <th>1214639</th>\n",
       "      <td>-34.68903</td>\n",
       "      <td>18.51702</td>\n",
       "    </tr>\n",
       "    <tr>\n",
       "      <th>1214640</th>\n",
       "      <td>-34.68007</td>\n",
       "      <td>18.50400</td>\n",
       "    </tr>\n",
       "  </tbody>\n",
       "</table>\n",
       "</div>"
      ],
      "text/plain": [
       "         latitude  longitude\n",
       "1214636   1.18471  103.61586\n",
       "1214637   1.20012  103.53526\n",
       "1214638   1.21734  103.47002\n",
       "1214639 -34.68903   18.51702\n",
       "1214640 -34.68007   18.50400"
      ]
     },
     "execution_count": 78,
     "metadata": {},
     "output_type": "execute_result"
    }
   ],
   "source": [
    "#Generate train/test data\n",
    "data = pd.read_csv(\"../CSV/big_files/ais_train_processed.csv\", sep=\"|\")\n",
    "data.drop(columns=[\"portId\"], inplace=True)\n",
    "\n",
    "X, y = sktimeProcess(data)\n",
    "\n",
    "X_train, X_test, y_train, y_test = train_test_split(X, y, test_size=0.2, shuffle=False)"
   ]
  },
  {
   "cell_type": "code",
   "execution_count": 79,
   "metadata": {},
   "outputs": [],
   "source": [
    "def evaluate(model: str, y_pred):\n",
    "\n",
    "    n = len(y_test)\n",
    "    p = X_test.shape[1]\n",
    "\n",
    "    mse_latitude = mean_squared_error(y_test, y_pred)\n",
    "    mse_longitude = mean_squared_error(y_test, y_pred)\n",
    "    r2_latitude = r2_score(y_test, y_pred)\n",
    "    r2_latitude_adj = 1 - (1 - r2_latitude) * ((n - 1) / (n - p - 1))\n",
    "    r2_longitude = r2_score(y_test, y_pred)\n",
    "    r2_longitude_adj = 1 - (1 - r2_longitude) * ((n - 1) / (n - p - 1))\n",
    "\n",
    "\n",
    "    print(f\"---- {model} Metrics ----\")\n",
    "    print(f\"Mean Squared Error (Latitude): {mse_latitude:.4f}\")\n",
    "    print(f\"R-squared (Latitude): {r2_latitude:.4f}, Adjusted R-squared (Latitude): {r2_latitude_adj: .4f}\")\n",
    "    print(f\"Mean Squared Error (Longitude): {mse_longitude:.4f}\")\n",
    "    print(f\"R-squared (Longitude): {r2_longitude:.4f}, Adjusted R-squared (Latitude): {r2_longitude_adj: .4f}\")\n"
   ]
  },
  {
   "cell_type": "code",
   "execution_count": 79,
   "metadata": {},
   "outputs": [
    {
     "ename": "TypeError",
     "evalue": "X must be in an sktime compatible format. Allowed scitypes for regressors are Panel mtypes, for instance a pandas.DataFrame with MultiIndex and last(-1) level an sktime compatible time index. Allowed compatible mtype format specifications are: ['nested_univ', 'numpy3D', 'numpyflat', 'pd-multiindex', 'pd-wide', 'pd-long', 'df-list', 'gluonts_ListDataset_panel', 'gluonts_PandasDataset_panel', 'polars_panel'] . See the data format tutorial examples/AA_datatypes_and_datasets.ipynb. If you think the data is already in an sktime supported input format, run sktime.datatypes.check_raise(data, mtype) to diagnose the error, where mtype is the string of the type specification you want. Error message for checked mtypes, in format [mtype: message], as follows: [df-list: obj must be list of pd.DataFrame, found <class 'pandas.core.frame.DataFrame'>]  [numpy3D: obj must be a numpy.ndarray, found <class 'pandas.core.frame.DataFrame'>]  [pd-multiindex: obj must have a MultiIndex, found <class 'pandas.core.indexes.base.Index'>]  [nested_univ: obj All columns must be object, found <class 'pandas.core.frame.DataFrame'>] ",
     "output_type": "error",
     "traceback": [
      "\u001b[1;31m---------------------------------------------------------------------------\u001b[0m",
      "\u001b[1;31mTypeError\u001b[0m                                 Traceback (most recent call last)",
      "Cell \u001b[1;32mIn[79], line 6\u001b[0m\n\u001b[0;32m      4\u001b[0m start \u001b[38;5;241m=\u001b[39m time\u001b[38;5;241m.\u001b[39mtime()\n\u001b[0;32m      5\u001b[0m KNNTS \u001b[38;5;241m=\u001b[39m KNeighborsTimeSeriesRegressor(n_neighbors\u001b[38;5;241m=\u001b[39m\u001b[38;5;241m3\u001b[39m, distance\u001b[38;5;241m=\u001b[39m\u001b[38;5;124m\"\u001b[39m\u001b[38;5;124meuclidean\u001b[39m\u001b[38;5;124m\"\u001b[39m)\n\u001b[1;32m----> 6\u001b[0m \u001b[43mKNNTS\u001b[49m\u001b[38;5;241;43m.\u001b[39;49m\u001b[43mfit\u001b[49m\u001b[43m(\u001b[49m\u001b[43mX_train\u001b[49m\u001b[43m,\u001b[49m\u001b[43m \u001b[49m\u001b[43my_train\u001b[49m\u001b[43m)\u001b[49m\n\u001b[0;32m      7\u001b[0m \u001b[38;5;28mprint\u001b[39m(time\u001b[38;5;241m.\u001b[39mtime()\u001b[38;5;241m-\u001b[39mstart)\n\u001b[0;32m      9\u001b[0m knnts_pred \u001b[38;5;241m=\u001b[39m KNNTS\u001b[38;5;241m.\u001b[39mpredict(X_test)\n",
      "File \u001b[1;32m~\\AppData\\Local\\Packages\\PythonSoftwareFoundation.Python.3.11_qbz5n2kfra8p0\\LocalCache\\local-packages\\Python311\\site-packages\\sktime\\regression\\base.py:218\u001b[0m, in \u001b[0;36mBaseRegressor.fit\u001b[1;34m(self, X, y)\u001b[0m\n\u001b[0;32m    215\u001b[0m \u001b[38;5;28mself\u001b[39m\u001b[38;5;241m.\u001b[39m_is_vectorized \u001b[38;5;241m=\u001b[39m \u001b[38;5;28misinstance\u001b[39m(y, VectorizedDF)\n\u001b[0;32m    217\u001b[0m \u001b[38;5;28;01mif\u001b[39;00m \u001b[38;5;28mself\u001b[39m\u001b[38;5;241m.\u001b[39m_is_vectorized:\n\u001b[1;32m--> 218\u001b[0m     \u001b[38;5;28;43mself\u001b[39;49m\u001b[38;5;241;43m.\u001b[39;49m\u001b[43m_vectorize\u001b[49m\u001b[43m(\u001b[49m\u001b[38;5;124;43m\"\u001b[39;49m\u001b[38;5;124;43mfit\u001b[39;49m\u001b[38;5;124;43m\"\u001b[39;49m\u001b[43m,\u001b[49m\u001b[43m \u001b[49m\u001b[43mX\u001b[49m\u001b[38;5;241;43m=\u001b[39;49m\u001b[43mX\u001b[49m\u001b[43m,\u001b[49m\u001b[43m \u001b[49m\u001b[43my\u001b[49m\u001b[38;5;241;43m=\u001b[39;49m\u001b[43my\u001b[49m\u001b[43m)\u001b[49m\n\u001b[0;32m    219\u001b[0m     \u001b[38;5;66;03m# fit timer end\u001b[39;00m\n\u001b[0;32m    220\u001b[0m     \u001b[38;5;28mself\u001b[39m\u001b[38;5;241m.\u001b[39mfit_time_ \u001b[38;5;241m=\u001b[39m \u001b[38;5;28mint\u001b[39m(\u001b[38;5;28mround\u001b[39m(time\u001b[38;5;241m.\u001b[39mtime() \u001b[38;5;241m*\u001b[39m \u001b[38;5;241m1000\u001b[39m)) \u001b[38;5;241m-\u001b[39m start\n",
      "File \u001b[1;32m~\\AppData\\Local\\Packages\\PythonSoftwareFoundation.Python.3.11_qbz5n2kfra8p0\\LocalCache\\local-packages\\Python311\\site-packages\\sktime\\base\\_base_panel.py:74\u001b[0m, in \u001b[0;36mBasePanelMixin._vectorize\u001b[1;34m(self, methodname, **kwargs)\u001b[0m\n\u001b[0;32m     71\u001b[0m \u001b[38;5;28mself\u001b[39m\u001b[38;5;241m.\u001b[39m_yvec \u001b[38;5;241m=\u001b[39m y\n\u001b[0;32m     73\u001b[0m ests_ \u001b[38;5;241m=\u001b[39m \u001b[38;5;28mself\u001b[39m\u001b[38;5;241m.\u001b[39m_yvec\u001b[38;5;241m.\u001b[39mvectorize_est(\u001b[38;5;28mself\u001b[39m, method\u001b[38;5;241m=\u001b[39m\u001b[38;5;124m\"\u001b[39m\u001b[38;5;124mclone\u001b[39m\u001b[38;5;124m\"\u001b[39m, \u001b[38;5;241m*\u001b[39m\u001b[38;5;241m*\u001b[39mkwargs)\n\u001b[1;32m---> 74\u001b[0m ests_fit \u001b[38;5;241m=\u001b[39m \u001b[38;5;28;43mself\u001b[39;49m\u001b[38;5;241;43m.\u001b[39;49m\u001b[43m_yvec\u001b[49m\u001b[38;5;241;43m.\u001b[39;49m\u001b[43mvectorize_est\u001b[49m\u001b[43m(\u001b[49m\n\u001b[0;32m     75\u001b[0m \u001b[43m    \u001b[49m\u001b[43mests_\u001b[49m\u001b[43m,\u001b[49m\n\u001b[0;32m     76\u001b[0m \u001b[43m    \u001b[49m\u001b[43mmethod\u001b[49m\u001b[38;5;241;43m=\u001b[39;49m\u001b[43mmethodname\u001b[49m\u001b[43m,\u001b[49m\n\u001b[0;32m     77\u001b[0m \u001b[43m    \u001b[49m\u001b[43margs\u001b[49m\u001b[38;5;241;43m=\u001b[39;49m\u001b[43m{\u001b[49m\u001b[38;5;124;43m\"\u001b[39;49m\u001b[38;5;124;43my\u001b[39;49m\u001b[38;5;124;43m\"\u001b[39;49m\u001b[43m:\u001b[49m\u001b[43m \u001b[49m\u001b[43my\u001b[49m\u001b[43m}\u001b[49m\u001b[43m,\u001b[49m\n\u001b[0;32m     78\u001b[0m \u001b[43m    \u001b[49m\u001b[43mX\u001b[49m\u001b[38;5;241;43m=\u001b[39;49m\u001b[43mX\u001b[49m\u001b[43m,\u001b[49m\n\u001b[0;32m     79\u001b[0m \u001b[43m    \u001b[49m\u001b[38;5;241;43m*\u001b[39;49m\u001b[38;5;241;43m*\u001b[39;49m\u001b[43mkwargs\u001b[49m\u001b[43m,\u001b[49m\n\u001b[0;32m     80\u001b[0m \u001b[43m\u001b[49m\u001b[43m)\u001b[49m\n\u001b[0;32m     81\u001b[0m \u001b[38;5;28msetattr\u001b[39m(\u001b[38;5;28mself\u001b[39m, \u001b[38;5;28mself\u001b[39m\u001b[38;5;241m.\u001b[39mVECTORIZATION_ATTR, ests_fit)\n\u001b[0;32m     82\u001b[0m \u001b[38;5;28;01mreturn\u001b[39;00m \u001b[38;5;28mself\u001b[39m\n",
      "File \u001b[1;32m~\\AppData\\Local\\Packages\\PythonSoftwareFoundation.Python.3.11_qbz5n2kfra8p0\\LocalCache\\local-packages\\Python311\\site-packages\\sktime\\datatypes\\_vectorize.py:630\u001b[0m, in \u001b[0;36mVectorizedDF.vectorize_est\u001b[1;34m(self, estimator, method, args, args_rowvec, return_type, rowname_default, colname_default, varname_of_self, backend, backend_params, **kwargs)\u001b[0m\n\u001b[0;32m    616\u001b[0m vec_zip \u001b[38;5;241m=\u001b[39m \u001b[38;5;28mzip\u001b[39m(\n\u001b[0;32m    617\u001b[0m     \u001b[38;5;28mself\u001b[39m\u001b[38;5;241m.\u001b[39mitems(),\n\u001b[0;32m    618\u001b[0m     explode(args, iterate_as\u001b[38;5;241m=\u001b[39miterate_as, iterate_cols\u001b[38;5;241m=\u001b[39miterate_cols),\n\u001b[0;32m    619\u001b[0m     explode(args_rowvec, iterate_as\u001b[38;5;241m=\u001b[39miterate_as, iterate_cols\u001b[38;5;241m=\u001b[39m\u001b[38;5;28;01mFalse\u001b[39;00m),\n\u001b[0;32m    620\u001b[0m     estimators,\n\u001b[0;32m    621\u001b[0m )\n\u001b[0;32m    623\u001b[0m meta \u001b[38;5;241m=\u001b[39m {\n\u001b[0;32m    624\u001b[0m     \u001b[38;5;124m\"\u001b[39m\u001b[38;5;124mmethod\u001b[39m\u001b[38;5;124m\"\u001b[39m: method,\n\u001b[0;32m    625\u001b[0m     \u001b[38;5;124m\"\u001b[39m\u001b[38;5;124mvarname_of_self\u001b[39m\u001b[38;5;124m\"\u001b[39m: varname_of_self,\n\u001b[0;32m    626\u001b[0m     \u001b[38;5;124m\"\u001b[39m\u001b[38;5;124mrowname_default\u001b[39m\u001b[38;5;124m\"\u001b[39m: rowname_default,\n\u001b[0;32m    627\u001b[0m     \u001b[38;5;124m\"\u001b[39m\u001b[38;5;124mcolname_default\u001b[39m\u001b[38;5;124m\"\u001b[39m: colname_default,\n\u001b[0;32m    628\u001b[0m }\n\u001b[1;32m--> 630\u001b[0m ret \u001b[38;5;241m=\u001b[39m \u001b[43mparallelize\u001b[49m\u001b[43m(\u001b[49m\n\u001b[0;32m    631\u001b[0m \u001b[43m    \u001b[49m\u001b[43mfun\u001b[49m\u001b[38;5;241;43m=\u001b[39;49m\u001b[38;5;28;43mself\u001b[39;49m\u001b[38;5;241;43m.\u001b[39;49m\u001b[43m_vectorize_est_single\u001b[49m\u001b[43m,\u001b[49m\n\u001b[0;32m    632\u001b[0m \u001b[43m    \u001b[49m\u001b[38;5;28;43miter\u001b[39;49m\u001b[38;5;241;43m=\u001b[39;49m\u001b[43mvec_zip\u001b[49m\u001b[43m,\u001b[49m\n\u001b[0;32m    633\u001b[0m \u001b[43m    \u001b[49m\u001b[43mmeta\u001b[49m\u001b[38;5;241;43m=\u001b[39;49m\u001b[43mmeta\u001b[49m\u001b[43m,\u001b[49m\n\u001b[0;32m    634\u001b[0m \u001b[43m    \u001b[49m\u001b[43mbackend\u001b[49m\u001b[38;5;241;43m=\u001b[39;49m\u001b[43mbackend\u001b[49m\u001b[43m,\u001b[49m\n\u001b[0;32m    635\u001b[0m \u001b[43m    \u001b[49m\u001b[43mbackend_params\u001b[49m\u001b[38;5;241;43m=\u001b[39;49m\u001b[43mbackend_params\u001b[49m\u001b[43m,\u001b[49m\n\u001b[0;32m    636\u001b[0m \u001b[43m\u001b[49m\u001b[43m)\u001b[49m\n\u001b[0;32m    638\u001b[0m \u001b[38;5;28;01mif\u001b[39;00m return_type \u001b[38;5;241m==\u001b[39m \u001b[38;5;124m\"\u001b[39m\u001b[38;5;124mpd.DataFrame\u001b[39m\u001b[38;5;124m\"\u001b[39m:\n\u001b[0;32m    639\u001b[0m     df_long \u001b[38;5;241m=\u001b[39m pd\u001b[38;5;241m.\u001b[39mDataFrame(ret)\n",
      "File \u001b[1;32m~\\AppData\\Local\\Packages\\PythonSoftwareFoundation.Python.3.11_qbz5n2kfra8p0\\LocalCache\\local-packages\\Python311\\site-packages\\sktime\\utils\\parallel.py:72\u001b[0m, in \u001b[0;36mparallelize\u001b[1;34m(fun, iter, meta, backend, backend_params)\u001b[0m\n\u001b[0;32m     69\u001b[0m backend_name \u001b[38;5;241m=\u001b[39m backend_dict[backend]\n\u001b[0;32m     70\u001b[0m para_fun \u001b[38;5;241m=\u001b[39m para_dict[backend_name]\n\u001b[1;32m---> 72\u001b[0m ret \u001b[38;5;241m=\u001b[39m \u001b[43mpara_fun\u001b[49m\u001b[43m(\u001b[49m\n\u001b[0;32m     73\u001b[0m \u001b[43m    \u001b[49m\u001b[43mfun\u001b[49m\u001b[38;5;241;43m=\u001b[39;49m\u001b[43mfun\u001b[49m\u001b[43m,\u001b[49m\u001b[43m \u001b[49m\u001b[38;5;28;43miter\u001b[39;49m\u001b[38;5;241;43m=\u001b[39;49m\u001b[38;5;28;43miter\u001b[39;49m\u001b[43m,\u001b[49m\u001b[43m \u001b[49m\u001b[43mmeta\u001b[49m\u001b[38;5;241;43m=\u001b[39;49m\u001b[43mmeta\u001b[49m\u001b[43m,\u001b[49m\u001b[43m \u001b[49m\u001b[43mbackend\u001b[49m\u001b[38;5;241;43m=\u001b[39;49m\u001b[43mbackend\u001b[49m\u001b[43m,\u001b[49m\u001b[43m \u001b[49m\u001b[43mbackend_params\u001b[49m\u001b[38;5;241;43m=\u001b[39;49m\u001b[43mbackend_params\u001b[49m\n\u001b[0;32m     74\u001b[0m \u001b[43m\u001b[49m\u001b[43m)\u001b[49m\n\u001b[0;32m     75\u001b[0m \u001b[38;5;28;01mreturn\u001b[39;00m ret\n",
      "File \u001b[1;32m~\\AppData\\Local\\Packages\\PythonSoftwareFoundation.Python.3.11_qbz5n2kfra8p0\\LocalCache\\local-packages\\Python311\\site-packages\\sktime\\utils\\parallel.py:92\u001b[0m, in \u001b[0;36m_parallelize_none\u001b[1;34m(fun, iter, meta, backend, backend_params)\u001b[0m\n\u001b[0;32m     90\u001b[0m \u001b[38;5;28;01mdef\u001b[39;00m \u001b[38;5;21m_parallelize_none\u001b[39m(fun, \u001b[38;5;28miter\u001b[39m, meta, backend, backend_params):\n\u001b[0;32m     91\u001b[0m \u001b[38;5;250m    \u001b[39m\u001b[38;5;124;03m\"\"\"Execute loop via simple sequential list comprehension.\"\"\"\u001b[39;00m\n\u001b[1;32m---> 92\u001b[0m     ret \u001b[38;5;241m=\u001b[39m \u001b[43m[\u001b[49m\u001b[43mfun\u001b[49m\u001b[43m(\u001b[49m\u001b[43mx\u001b[49m\u001b[43m,\u001b[49m\u001b[43m \u001b[49m\u001b[43mmeta\u001b[49m\u001b[38;5;241;43m=\u001b[39;49m\u001b[43mmeta\u001b[49m\u001b[43m)\u001b[49m\u001b[43m \u001b[49m\u001b[38;5;28;43;01mfor\u001b[39;49;00m\u001b[43m \u001b[49m\u001b[43mx\u001b[49m\u001b[43m \u001b[49m\u001b[38;5;129;43;01min\u001b[39;49;00m\u001b[43m \u001b[49m\u001b[38;5;28;43miter\u001b[39;49m\u001b[43m]\u001b[49m\n\u001b[0;32m     93\u001b[0m     \u001b[38;5;28;01mreturn\u001b[39;00m ret\n",
      "File \u001b[1;32m~\\AppData\\Local\\Packages\\PythonSoftwareFoundation.Python.3.11_qbz5n2kfra8p0\\LocalCache\\local-packages\\Python311\\site-packages\\sktime\\utils\\parallel.py:92\u001b[0m, in \u001b[0;36m<listcomp>\u001b[1;34m(.0)\u001b[0m\n\u001b[0;32m     90\u001b[0m \u001b[38;5;28;01mdef\u001b[39;00m \u001b[38;5;21m_parallelize_none\u001b[39m(fun, \u001b[38;5;28miter\u001b[39m, meta, backend, backend_params):\n\u001b[0;32m     91\u001b[0m \u001b[38;5;250m    \u001b[39m\u001b[38;5;124;03m\"\"\"Execute loop via simple sequential list comprehension.\"\"\"\u001b[39;00m\n\u001b[1;32m---> 92\u001b[0m     ret \u001b[38;5;241m=\u001b[39m [\u001b[43mfun\u001b[49m\u001b[43m(\u001b[49m\u001b[43mx\u001b[49m\u001b[43m,\u001b[49m\u001b[43m \u001b[49m\u001b[43mmeta\u001b[49m\u001b[38;5;241;43m=\u001b[39;49m\u001b[43mmeta\u001b[49m\u001b[43m)\u001b[49m \u001b[38;5;28;01mfor\u001b[39;00m x \u001b[38;5;129;01min\u001b[39;00m \u001b[38;5;28miter\u001b[39m]\n\u001b[0;32m     93\u001b[0m     \u001b[38;5;28;01mreturn\u001b[39;00m ret\n",
      "File \u001b[1;32m~\\AppData\\Local\\Packages\\PythonSoftwareFoundation.Python.3.11_qbz5n2kfra8p0\\LocalCache\\local-packages\\Python311\\site-packages\\sktime\\datatypes\\_vectorize.py:679\u001b[0m, in \u001b[0;36mVectorizedDF._vectorize_est_single\u001b[1;34m(self, vec_tuple, meta)\u001b[0m\n\u001b[0;32m    676\u001b[0m     args_i[varname_of_self] \u001b[38;5;241m=\u001b[39m group\n\u001b[0;32m    678\u001b[0m est_i_method \u001b[38;5;241m=\u001b[39m \u001b[38;5;28mgetattr\u001b[39m(est_i, method)\n\u001b[1;32m--> 679\u001b[0m est_i_result \u001b[38;5;241m=\u001b[39m \u001b[43mest_i_method\u001b[49m\u001b[43m(\u001b[49m\u001b[38;5;241;43m*\u001b[39;49m\u001b[38;5;241;43m*\u001b[39;49m\u001b[43margs_i\u001b[49m\u001b[43m)\u001b[49m\n\u001b[0;32m    681\u001b[0m \u001b[38;5;28;01mif\u001b[39;00m group_name \u001b[38;5;129;01mis\u001b[39;00m \u001b[38;5;28;01mNone\u001b[39;00m:\n\u001b[0;32m    682\u001b[0m     group_name \u001b[38;5;241m=\u001b[39m rowname_default\n",
      "File \u001b[1;32m~\\AppData\\Local\\Packages\\PythonSoftwareFoundation.Python.3.11_qbz5n2kfra8p0\\LocalCache\\local-packages\\Python311\\site-packages\\sktime\\regression\\base.py:236\u001b[0m, in \u001b[0;36mBaseRegressor.fit\u001b[1;34m(self, X, y)\u001b[0m\n\u001b[0;32m    233\u001b[0m     y \u001b[38;5;241m=\u001b[39m y\u001b[38;5;241m.\u001b[39mastype(\u001b[38;5;124m\"\u001b[39m\u001b[38;5;124mfloat\u001b[39m\u001b[38;5;124m\"\u001b[39m)\n\u001b[0;32m    235\u001b[0m \u001b[38;5;66;03m# input checks\u001b[39;00m\n\u001b[1;32m--> 236\u001b[0m X_metadata \u001b[38;5;241m=\u001b[39m \u001b[38;5;28;43mself\u001b[39;49m\u001b[38;5;241;43m.\u001b[39;49m\u001b[43m_check_input\u001b[49m\u001b[43m(\u001b[49m\n\u001b[0;32m    237\u001b[0m \u001b[43m    \u001b[49m\u001b[43mX\u001b[49m\u001b[43m,\u001b[49m\u001b[43m \u001b[49m\u001b[43my\u001b[49m\u001b[43m,\u001b[49m\u001b[43m \u001b[49m\u001b[43mreturn_metadata\u001b[49m\u001b[38;5;241;43m=\u001b[39;49m\u001b[38;5;28;43mself\u001b[39;49m\u001b[38;5;241;43m.\u001b[39;49m\u001b[43mMETADATA_REQ_IN_CHECKS\u001b[49m\n\u001b[0;32m    238\u001b[0m \u001b[43m\u001b[49m\u001b[43m)\u001b[49m\n\u001b[0;32m    239\u001b[0m \u001b[38;5;28mself\u001b[39m\u001b[38;5;241m.\u001b[39m_X_metadata \u001b[38;5;241m=\u001b[39m X_metadata\n\u001b[0;32m    240\u001b[0m X_mtype \u001b[38;5;241m=\u001b[39m X_metadata[\u001b[38;5;124m\"\u001b[39m\u001b[38;5;124mmtype\u001b[39m\u001b[38;5;124m\"\u001b[39m]\n",
      "File \u001b[1;32m~\\AppData\\Local\\Packages\\PythonSoftwareFoundation.Python.3.11_qbz5n2kfra8p0\\LocalCache\\local-packages\\Python311\\site-packages\\sktime\\base\\_base_panel.py:519\u001b[0m, in \u001b[0;36mBasePanelMixin._check_input\u001b[1;34m(self, X, y, enforce_min_instances, return_metadata)\u001b[0m\n\u001b[0;32m    512\u001b[0m allowed_msg \u001b[38;5;241m=\u001b[39m (\n\u001b[0;32m    513\u001b[0m     \u001b[38;5;124mf\u001b[39m\u001b[38;5;124m\"\u001b[39m\u001b[38;5;124mAllowed scitypes for \u001b[39m\u001b[38;5;132;01m{\u001b[39;00m\u001b[38;5;28mself\u001b[39m\u001b[38;5;241m.\u001b[39mEST_TYPE_PLURAL\u001b[38;5;132;01m}\u001b[39;00m\u001b[38;5;124m are Panel mtypes, \u001b[39m\u001b[38;5;124m\"\u001b[39m\n\u001b[0;32m    514\u001b[0m     \u001b[38;5;124mf\u001b[39m\u001b[38;5;124m\"\u001b[39m\u001b[38;5;124mfor instance a pandas.DataFrame with MultiIndex and last(-1) \u001b[39m\u001b[38;5;124m\"\u001b[39m\n\u001b[0;32m    515\u001b[0m     \u001b[38;5;124mf\u001b[39m\u001b[38;5;124m\"\u001b[39m\u001b[38;5;124mlevel an sktime compatible time index. \u001b[39m\u001b[38;5;124m\"\u001b[39m\n\u001b[0;32m    516\u001b[0m     \u001b[38;5;124mf\u001b[39m\u001b[38;5;124m\"\u001b[39m\u001b[38;5;124mAllowed compatible mtype format specifications are: \u001b[39m\u001b[38;5;132;01m{\u001b[39;00mMTYPE_LIST_PANEL\u001b[38;5;132;01m}\u001b[39;00m\u001b[38;5;124m .\u001b[39m\u001b[38;5;124m\"\u001b[39m\n\u001b[0;32m    517\u001b[0m )\n\u001b[0;32m    518\u001b[0m \u001b[38;5;28;01mif\u001b[39;00m \u001b[38;5;129;01mnot\u001b[39;00m X_valid:\n\u001b[1;32m--> 519\u001b[0m     \u001b[43mcheck_is_error_msg\u001b[49m\u001b[43m(\u001b[49m\n\u001b[0;32m    520\u001b[0m \u001b[43m        \u001b[49m\u001b[43mmsg\u001b[49m\u001b[43m,\u001b[49m\u001b[43m \u001b[49m\u001b[43mvar_name\u001b[49m\u001b[38;5;241;43m=\u001b[39;49m\u001b[38;5;124;43m\"\u001b[39;49m\u001b[38;5;124;43mX\u001b[39;49m\u001b[38;5;124;43m\"\u001b[39;49m\u001b[43m,\u001b[49m\u001b[43m \u001b[49m\u001b[43mallowed_msg\u001b[49m\u001b[38;5;241;43m=\u001b[39;49m\u001b[43mallowed_msg\u001b[49m\u001b[43m,\u001b[49m\u001b[43m \u001b[49m\u001b[43mraise_exception\u001b[49m\u001b[38;5;241;43m=\u001b[39;49m\u001b[38;5;28;43;01mTrue\u001b[39;49;00m\n\u001b[0;32m    521\u001b[0m \u001b[43m    \u001b[49m\u001b[43m)\u001b[49m\n\u001b[0;32m    523\u001b[0m est_type \u001b[38;5;241m=\u001b[39m \u001b[38;5;28mself\u001b[39m\u001b[38;5;241m.\u001b[39mget_tag(\u001b[38;5;124m\"\u001b[39m\u001b[38;5;124mobject_type\u001b[39m\u001b[38;5;124m\"\u001b[39m)  \u001b[38;5;66;03m# classifier or regressor\u001b[39;00m\n\u001b[0;32m    524\u001b[0m \u001b[38;5;28;01mif\u001b[39;00m DtypeKind\u001b[38;5;241m.\u001b[39mCATEGORICAL \u001b[38;5;129;01min\u001b[39;00m X_metadata[\u001b[38;5;124m\"\u001b[39m\u001b[38;5;124mfeature_kind\u001b[39m\u001b[38;5;124m\"\u001b[39m]:\n",
      "File \u001b[1;32m~\\AppData\\Local\\Packages\\PythonSoftwareFoundation.Python.3.11_qbz5n2kfra8p0\\LocalCache\\local-packages\\Python311\\site-packages\\sktime\\datatypes\\_check.py:508\u001b[0m, in \u001b[0;36mcheck_is_error_msg\u001b[1;34m(msg, var_name, allowed_msg, raise_exception)\u001b[0m\n\u001b[0;32m    505\u001b[0m     msg_invalid_input \u001b[38;5;241m+\u001b[39m\u001b[38;5;241m=\u001b[39m \u001b[38;5;124mf\u001b[39m\u001b[38;5;124m\"\u001b[39m\u001b[38;5;124m [\u001b[39m\u001b[38;5;132;01m{\u001b[39;00mmtype\u001b[38;5;132;01m}\u001b[39;00m\u001b[38;5;124m: \u001b[39m\u001b[38;5;132;01m{\u001b[39;00merr\u001b[38;5;132;01m}\u001b[39;00m\u001b[38;5;124m] \u001b[39m\u001b[38;5;124m\"\u001b[39m\n\u001b[0;32m    507\u001b[0m \u001b[38;5;28;01mif\u001b[39;00m raise_exception \u001b[38;5;129;01mis\u001b[39;00m \u001b[38;5;28;01mTrue\u001b[39;00m:\n\u001b[1;32m--> 508\u001b[0m     \u001b[38;5;28;01mraise\u001b[39;00m \u001b[38;5;167;01mTypeError\u001b[39;00m(msg_invalid_input)\n\u001b[0;32m    509\u001b[0m \u001b[38;5;28;01melif\u001b[39;00m raise_exception \u001b[38;5;129;01mis\u001b[39;00m \u001b[38;5;28;01mFalse\u001b[39;00m:\n\u001b[0;32m    510\u001b[0m     \u001b[38;5;28;01mreturn\u001b[39;00m msg_invalid_input\n",
      "\u001b[1;31mTypeError\u001b[0m: X must be in an sktime compatible format. Allowed scitypes for regressors are Panel mtypes, for instance a pandas.DataFrame with MultiIndex and last(-1) level an sktime compatible time index. Allowed compatible mtype format specifications are: ['nested_univ', 'numpy3D', 'numpyflat', 'pd-multiindex', 'pd-wide', 'pd-long', 'df-list', 'gluonts_ListDataset_panel', 'gluonts_PandasDataset_panel', 'polars_panel'] . See the data format tutorial examples/AA_datatypes_and_datasets.ipynb. If you think the data is already in an sktime supported input format, run sktime.datatypes.check_raise(data, mtype) to diagnose the error, where mtype is the string of the type specification you want. Error message for checked mtypes, in format [mtype: message], as follows: [df-list: obj must be list of pd.DataFrame, found <class 'pandas.core.frame.DataFrame'>]  [numpy3D: obj must be a numpy.ndarray, found <class 'pandas.core.frame.DataFrame'>]  [pd-multiindex: obj must have a MultiIndex, found <class 'pandas.core.indexes.base.Index'>]  [nested_univ: obj All columns must be object, found <class 'pandas.core.frame.DataFrame'>] "
     ]
    }
   ],
   "source": [
    "# --- Time Series KNN ---\n",
    "from sktime.regression.distance_based import KNeighborsTimeSeriesRegressor\n",
    "\n",
    "start = time.time()\n",
    "KNNTS = KNeighborsTimeSeriesRegressor(n_neighbors=3, distance=\"euclidean\")\n",
    "KNNTS.fit(X_train, y_train)\n",
    "print(time.time()-start)\n",
    "\n",
    "knnts_pred = KNNTS.predict(X_test)\n",
    "\n",
    "evaluate(\"KNNTS\", knnts_pred)"
   ]
  },
  {
   "cell_type": "code",
   "execution_count": null,
   "metadata": {},
   "outputs": [],
   "source": []
  }
 ],
 "metadata": {
  "kernelspec": {
   "display_name": "Python 3",
   "language": "python",
   "name": "python3"
  },
  "language_info": {
   "codemirror_mode": {
    "name": "ipython",
    "version": 3
   },
   "file_extension": ".py",
   "mimetype": "text/x-python",
   "name": "python",
   "nbconvert_exporter": "python",
   "pygments_lexer": "ipython3",
   "version": "3.11.9"
  }
 },
 "nbformat": 4,
 "nbformat_minor": 2
}
