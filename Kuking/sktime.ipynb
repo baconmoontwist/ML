{
 "cells": [
  {
   "cell_type": "code",
   "execution_count": 7,
   "metadata": {},
   "outputs": [],
   "source": [
    "import pandas as pd\n",
    "import numpy as np\n",
    "import matplotlib.pyplot as plt\n",
    "import time\n",
    "\n",
    "from sklearn.metrics import mean_squared_error, r2_score\n",
    "from sklearn.model_selection import train_test_split\n"
   ]
  },
  {
   "cell_type": "code",
   "execution_count": 23,
   "metadata": {},
   "outputs": [
    {
     "name": "stdout",
     "output_type": "stream",
     "text": [
      "                                       cog   sog  rot  heading  navstat  \\\n",
      "time       vesselId                                                       \n",
      "1704067225 61e9f3a8b937134a3c4bfdf7  284.0   0.7    0       88        0   \n",
      "1704067236 61e9f3d4b937134a3c4bff1f  109.6   0.0   -6      347        1   \n",
      "1704067305 61e9f436b937134a3c4c0131  111.0  11.0    0      112        0   \n",
      "1704067391 61e9f3b4b937134a3c4bfe77   96.4   0.0    0      142        1   \n",
      "1704067431 61e9f41bb937134a3c4c0087  214.0  19.7    0      215        0   \n",
      "\n",
      "                                         etaRaw  drift  at_port  time_at_sea  \n",
      "time       vesselId                                                           \n",
      "1704067225 61e9f3a8b937134a3c4bfdf7  1704841200  196.0    False          0.0  \n",
      "1704067236 61e9f3d4b937134a3c4bff1f  1735502400 -237.4    False          0.0  \n",
      "1704067305 61e9f436b937134a3c4c0131  1704186000   -1.0    False          0.0  \n",
      "1704067391 61e9f3b4b937134a3c4bfe77  1735675200  -45.6    False          0.0  \n",
      "1704067431 61e9f41bb937134a3c4c0087  1706184000   -1.0    False          0.0  \n"
     ]
    }
   ],
   "source": [
    "data = pd.read_csv(\"../CSV/big_files/ais_train_processed.csv\", sep=\"|\")\n",
    "data.drop(columns=[\"portId\"], inplace=True)\n",
    "\n",
    "X = data.copy().drop(columns=[\"latitude\", \"longitude\"])\n",
    "y = data.copy()[[\"latitude\", \"longitude\"]]\n",
    "\n",
    "X_train, X_test, y_train, y_test = train_test_split(X, y, test_size=0.2, shuffle=False)\n",
    "\n",
    "\"\"\" X_train = pd.get_dummies(X_train, columns=[\"vesselId\"], drop_first=True)\n",
    "X_test = pd.get_dummies(X_test, columns=[\"vesselId\"], drop_first=True)\n",
    "\n",
    "\n",
    "#More data BS\n",
    "for col in X_train:\n",
    "    if col not in X_test:\n",
    "        X_test[col] = False\n",
    "\n",
    "X_train = X_train.reindex(sorted(X_train.columns), axis=1)\n",
    "X_test = X_test.reindex(sorted(X_test.columns), axis=1) \"\"\"\n",
    "\n",
    "X_train = X_train.set_index([\"time\", \"vesselId\"])\n",
    "X_test = X_test.set_index([\"time\", \"vesselId\"])\n",
    "\n",
    "def evaluate(model: str, y_pred):\n",
    "\n",
    "    n = len(y_test)\n",
    "    p = X_test.shape[1]\n",
    "\n",
    "    mse_latitude = mean_squared_error(y_test, y_pred)\n",
    "    mse_longitude = mean_squared_error(y_test, y_pred)\n",
    "    r2_latitude = r2_score(y_test, y_pred)\n",
    "    r2_latitude_adj = 1 - (1 - r2_latitude) * ((n - 1) / (n - p - 1))\n",
    "    r2_longitude = r2_score(y_test, y_pred)\n",
    "    r2_longitude_adj = 1 - (1 - r2_longitude) * ((n - 1) / (n - p - 1))\n",
    "\n",
    "\n",
    "    print(f\"---- {model} Metrics ----\")\n",
    "    print(f\"Mean Squared Error (Latitude): {mse_latitude:.4f}\")\n",
    "    print(f\"R-squared (Latitude): {r2_latitude:.4f}, Adjusted R-squared (Latitude): {r2_latitude_adj: .4f}\")\n",
    "    print(f\"Mean Squared Error (Longitude): {mse_longitude:.4f}\")\n",
    "    print(f\"R-squared (Longitude): {r2_longitude:.4f}, Adjusted R-squared (Latitude): {r2_longitude_adj: .4f}\")\n"
   ]
  },
  {
   "cell_type": "code",
   "execution_count": null,
   "metadata": {},
   "outputs": [],
   "source": [
    "# --- Time Series KNN ---\n",
    "from sktime.regression.distance_based import KNeighborsTimeSeriesRegressor\n",
    "\n",
    "start = time.time()\n",
    "KNNTS = KNeighborsTimeSeriesRegressor(n_neighbors=3, distance=\"eucl_dist\")\n",
    "KNNTS.fit(X_train, y_train)\n",
    "print(time.time()-start)\n",
    "\n",
    "knnts_pred = KNNTS.predict(X_test)\n",
    "\n",
    "evaluate(\"KNNTS\", knnts_pred)"
   ]
  }
 ],
 "metadata": {
  "kernelspec": {
   "display_name": "Python 3",
   "language": "python",
   "name": "python3"
  },
  "language_info": {
   "codemirror_mode": {
    "name": "ipython",
    "version": 3
   },
   "file_extension": ".py",
   "mimetype": "text/x-python",
   "name": "python",
   "nbconvert_exporter": "python",
   "pygments_lexer": "ipython3",
   "version": "3.11.9"
  }
 },
 "nbformat": 4,
 "nbformat_minor": 2
}
