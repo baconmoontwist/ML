{
 "cells": [
  {
   "cell_type": "code",
   "execution_count": 2,
   "id": "956ceaa1-da68-41b8-b3cc-3f968f23fae0",
   "metadata": {},
   "outputs": [
    {
     "ename": "ModuleNotFoundError",
     "evalue": "No module named 'plotly'",
     "output_type": "error",
     "traceback": [
      "\u001b[1;31m---------------------------------------------------------------------------\u001b[0m",
      "\u001b[1;31mModuleNotFoundError\u001b[0m                       Traceback (most recent call last)",
      "Cell \u001b[1;32mIn[2], line 2\u001b[0m\n\u001b[0;32m      1\u001b[0m \u001b[38;5;28;01mimport\u001b[39;00m \u001b[38;5;21;01mpandas\u001b[39;00m \u001b[38;5;28;01mas\u001b[39;00m \u001b[38;5;21;01mpd\u001b[39;00m\n\u001b[1;32m----> 2\u001b[0m \u001b[38;5;28;01mimport\u001b[39;00m \u001b[38;5;21;01mplotly\u001b[39;00m\u001b[38;5;21;01m.\u001b[39;00m\u001b[38;5;21;01mexpress\u001b[39;00m \u001b[38;5;28;01mas\u001b[39;00m \u001b[38;5;21;01mpx\u001b[39;00m\n\u001b[0;32m      3\u001b[0m \u001b[38;5;28;01mimport\u001b[39;00m \u001b[38;5;21;01mplotly\u001b[39;00m\u001b[38;5;21;01m.\u001b[39;00m\u001b[38;5;21;01mgraph_objects\u001b[39;00m \u001b[38;5;28;01mas\u001b[39;00m \u001b[38;5;21;01mgo\u001b[39;00m\n\u001b[0;32m      4\u001b[0m \u001b[38;5;28;01mimport\u001b[39;00m \u001b[38;5;21;01mwarnings\u001b[39;00m\n",
      "\u001b[1;31mModuleNotFoundError\u001b[0m: No module named 'plotly'"
     ]
    }
   ],
   "source": [
    "import pandas as pd\n",
    "import plotly.express as px\n",
    "import plotly.graph_objects as go\n",
    "import warnings\n",
    "warnings.filterwarnings('ignore')\n",
    "\n",
    "train = pd.read_csv(\"ais_train.csv\", sep='|')\n",
    "res = pd.read_csv('res.csv')\n",
    "test = pd.read_csv(\"ais_test.csv\")\n",
    "train['time'] = pd.to_datetime(train['time'])\n",
    "test['time'] = pd.to_datetime(test['time'])\n",
    "res.head()\n",
    "res2 = test.copy()\n",
    "res2['longitude'] = res['longitude_predicted']\n",
    "res2['latitude'] = res['latitude_predicted']\n",
    "\n",
    "\n",
    "\n",
    "\n",
    "def visualize_vessel_movements(df):\n",
    "    \"\"\"\n",
    "    Visualize vessel movements on a map with lines and markers for each data point.\n",
    "\n",
    "    Parameters:\n",
    "    - df (pandas.DataFrame): A DataFrame with columns ['time', 'latitude', 'longitude', 'vesselId'].\n",
    "\n",
    "    Returns:\n",
    "    - A Plotly interactive figure.\n",
    "    \"\"\"\n",
    "    # Ensure 'time' is in datetime format for better tooltip handling\n",
    "    df['time'] = pd.to_datetime(df['time'])\n",
    "    \n",
    "    # Sorting the DataFrame by time to ensure lines are drawn correctly\n",
    "    df = df.sort_values(by=['vesselId', 'time'])\n",
    "\n",
    "    # Define a color palette\n",
    "    color_map = px.colors.qualitative.Plotly\n",
    "\n",
    "    # Mapping each vessel ID to a color\n",
    "    unique_vessels = df['vesselId'].unique()\n",
    "    colors = {vessel_id: color_map[i % len(color_map)] for i, vessel_id in enumerate(unique_vessels)}\n",
    "\n",
    "    # Create the base map with lines\n",
    "    fig = px.line_geo(df,\n",
    "                      lat='latitude',\n",
    "                      lon='longitude',\n",
    "                      color='vesselId',\n",
    "                      color_discrete_map=colors,\n",
    "                      hover_name='vesselId',\n",
    "                      hover_data={'time': True, 'latitude': ':.3f', 'longitude': ':.3f'},\n",
    "                      projection='natural earth',\n",
    "                      title='Vessel Movements Over Time')\n",
    "\n",
    "    # Add markers for each data point\n",
    "    for vessel_id in unique_vessels:\n",
    "        vessel_data = df[df['vesselId'] == vessel_id]\n",
    "        fig.add_trace(go.Scattergeo(\n",
    "            lon=vessel_data['longitude'],\n",
    "            lat=vessel_data['latitude'],\n",
    "            mode='markers',\n",
    "            marker=dict(\n",
    "                size=8,\n",
    "                color=colors[vessel_id],\n",
    "                opacity=0.8,\n",
    "                line=dict(width=1, color='DarkSlateGrey')\n",
    "            ),\n",
    "            name=f'Markers for {vessel_id}',\n",
    "            hoverinfo='text',\n",
    "            text=vessel_data.apply(lambda row: f'ID: {vessel_id}<br>Time: {row[\"time\"]}<br>Lat: {row[\"latitude\"]:.3f}<br>Lon: {row[\"longitude\"]:.3f}', axis=1)\n",
    "        ))\n",
    "\n",
    "    # Enhancing map and layout details\n",
    "    fig.update_geos(fitbounds=\"locations\", showcountries=True, countrycolor=\"RebeccaPurple\")\n",
    "    fig.update_layout(margin={\"r\":0,\"t\":30,\"l\":0,\"b\":0},\n",
    "                      coloraxis_colorbar=dict(title=\"Vessel ID\"),\n",
    "                      title_font_size=20)\n",
    "    \n",
    "    return fig"
   ]
  },
  {
   "cell_type": "code",
   "execution_count": 1,
   "id": "9b281e4e-e3b6-4804-877e-e90a153db777",
   "metadata": {},
   "outputs": [
    {
     "ename": "NameError",
     "evalue": "name 'visualize_vessel_movements' is not defined",
     "output_type": "error",
     "traceback": [
      "\u001b[1;31m---------------------------------------------------------------------------\u001b[0m",
      "\u001b[1;31mNameError\u001b[0m                                 Traceback (most recent call last)",
      "Cell \u001b[1;32mIn[1], line 1\u001b[0m\n\u001b[1;32m----> 1\u001b[0m fig \u001b[38;5;241m=\u001b[39m \u001b[43mvisualize_vessel_movements\u001b[49m(\n\u001b[0;32m      2\u001b[0m     train[train[\u001b[38;5;124m'\u001b[39m\u001b[38;5;124mvesselId\u001b[39m\u001b[38;5;124m'\u001b[39m] \u001b[38;5;241m==\u001b[39m \u001b[38;5;124m'\u001b[39m\u001b[38;5;124m61e9f3aeb937134a3c4bfe3d\u001b[39m\u001b[38;5;124m'\u001b[39m]\n\u001b[0;32m      3\u001b[0m )\n\u001b[0;32m      5\u001b[0m fig\u001b[38;5;241m.\u001b[39mshow() \n",
      "\u001b[1;31mNameError\u001b[0m: name 'visualize_vessel_movements' is not defined"
     ]
    }
   ],
   "source": [
    "fig = visualize_vessel_movements(\n",
    "    train[train['vesselId'] == '61e9f3aeb937134a3c4bfe3d']\n",
    ")\n",
    "\n",
    "fig.show() "
   ]
  },
  {
   "cell_type": "code",
   "execution_count": null,
   "id": "03096318-4ca4-4cf3-af72-e58ce83714cf",
   "metadata": {},
   "outputs": [],
   "source": []
  }
 ],
 "metadata": {
  "kernelspec": {
   "display_name": "Python 3",
   "language": "python",
   "name": "python3"
  },
  "language_info": {
   "codemirror_mode": {
    "name": "ipython",
    "version": 3
   },
   "file_extension": ".py",
   "mimetype": "text/x-python",
   "name": "python",
   "nbconvert_exporter": "python",
   "pygments_lexer": "ipython3",
   "version": "3.11.9"
  }
 },
 "nbformat": 4,
 "nbformat_minor": 5
}
